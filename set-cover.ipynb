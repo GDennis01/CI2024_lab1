{
 "cells": [
  {
   "cell_type": "markdown",
   "metadata": {},
   "source": [
    "Copyright **`(c)`** 2024 Giovanni Squillero `<giovanni.squillero@polito.it>`  \n",
    "[`https://github.com/squillero/computational-intelligence`](https://github.com/squillero/computational-intelligence)  \n",
    "Free for personal or classroom use; see [`LICENSE.md`](https://github.com/squillero/computational-intelligence/blob/master/LICENSE.md) for details.  "
   ]
  },
  {
   "cell_type": "markdown",
   "metadata": {},
   "source": [
    "# Set Cover problem\n",
    "\n",
    "See: https://en.wikipedia.org/wiki/Set_cover_problem"
   ]
  },
  {
   "cell_type": "code",
   "execution_count": 2,
   "metadata": {},
   "outputs": [],
   "source": [
    "from random import random, seed\n",
    "from itertools import product\n",
    "import numpy as np\n",
    "from tqdm.auto import tqdm\n",
    "from matplotlib import pyplot as plt\n",
    "\n",
    "from icecream import ic"
   ]
  },
  {
   "cell_type": "markdown",
   "metadata": {},
   "source": [
    "## Reproducible Initialization\n",
    "\n",
    "If you want to get reproducible results, use `rng` (and restart the kernel); for non-reproducible ones, use `np.random`."
   ]
  },
  {
   "cell_type": "code",
   "execution_count": null,
   "metadata": {},
   "outputs": [],
   "source": [
    "instance = 3\n",
    "match instance:\n",
    "    case 1:\n",
    "        # Instance 1\n",
    "        UNIVERSE_SIZE = 100\n",
    "        NUM_SETS = 10\n",
    "        DENSITY = 0.2\n",
    "    case 2:\n",
    "        # Instance 2\n",
    "        UNIVERSE_SIZE = 1_000\n",
    "        NUM_SETS = 100\n",
    "        DENSITY = 0.2\n",
    "    case 3:\n",
    "        #Instance 3\n",
    "        UNIVERSE_SIZE = 10_000\n",
    "        NUM_SETS = 1000\n",
    "        DENSITY = 0.2\n",
    "    case 4:\n",
    "        #Instance 4\n",
    "        UNIVERSE_SIZE = 100_000\n",
    "        NUM_SETS = 10_000\n",
    "        DENSITY = 0.1\n",
    "    case 5:\n",
    "        #Instance 5\n",
    "        UNIVERSE_SIZE = 100_000\n",
    "        NUM_SETS = 10_000\n",
    "        DENSITY = 0.2\n",
    "    case 6:\n",
    "        # Instance 6\n",
    "        UNIVERSE_SIZE = 100_000\n",
    "        NUM_SETS = 10_000\n",
    "        DENSITY = 0.3\n",
    "print(UNIVERSE_SIZE,DENSITY)\n",
    "\n",
    "N_STEPS = 10_000\n",
    "\n",
    "MULTI_TWEAK = 0.5\n",
    "\n",
    "REPRODUCIBILIY = False\n",
    "\n",
    "rng = np.random.Generator(np.random.PCG64([UNIVERSE_SIZE, NUM_SETS, int(10_000 * DENSITY)]))\n",
    "if REPRODUCIBILIY:\n",
    "    random_gen = rng\n",
    "else:\n",
    "    random_gen = np.random"
   ]
  },
  {
   "cell_type": "code",
   "execution_count": 416,
   "metadata": {},
   "outputs": [],
   "source": [
    "# DON'T EDIT THESE LINES!\n",
    "SETS = random_gen.random((NUM_SETS, UNIVERSE_SIZE)) < DENSITY\n",
    "for s in range(UNIVERSE_SIZE):\n",
    "    if not np.any(SETS[:, s]):\n",
    "        if REPRODUCIBILIY:\n",
    "            SETS[random_gen.integers(NUM_SETS), s] = True\n",
    "        else:\n",
    "            SETS[random_gen.randint(NUM_SETS),s] = True\n",
    "COSTS = np.pow(SETS.sum(axis=1), 1.1)"
   ]
  },
  {
   "cell_type": "markdown",
   "metadata": {},
   "source": [
    "## Helper Functions"
   ]
  },
  {
   "cell_type": "code",
   "execution_count": 417,
   "metadata": {},
   "outputs": [],
   "source": [
    "def valid(solution):\n",
    "    \"\"\"Checks wether solution is valid (ie. covers all universe)\"\"\"\n",
    "    phenotype = np.logical_or.reduce(SETS[solution])\n",
    "    return np.all(phenotype)\n",
    "\n",
    "\n",
    "def cost(solution):\n",
    "    \"\"\"Returns the cost of a solution (to be minimized)\"\"\"\n",
    "    return COSTS[solution].sum()\n",
    "def scatter_plot(x:np.ndarray,y:np.ndarray,max_line:np.ndarray | None=None):\n",
    "    plt.figure(figsize=(14, 8))\n",
    "    if max_line:\n",
    "        plt.plot(x,max_line,color=\"red\")\n",
    "\n",
    "    plt.scatter(x, y, marker=\".\")\n",
    "    plt.show()  "
   ]
  },
  {
   "cell_type": "markdown",
   "metadata": {},
   "source": [
    "## Have Fun!"
   ]
  },
  {
   "cell_type": "code",
   "execution_count": null,
   "metadata": {},
   "outputs": [],
   "source": [
    "# A dumb solution of \"all\" sets\n",
    "solution = np.full(NUM_SETS, True)\n",
    "valid(solution), cost(solution)"
   ]
  },
  {
   "cell_type": "code",
   "execution_count": null,
   "metadata": {},
   "outputs": [],
   "source": [
    "# A random solution with random 50% of the sets\n",
    "solution = rng.random(NUM_SETS) < .5\n",
    "valid(solution), cost(solution)"
   ]
  },
  {
   "cell_type": "code",
   "execution_count": 420,
   "metadata": {},
   "outputs": [],
   "source": [
    "def tweak(solution:np.ndarray)->np.ndarray:\n",
    "    new_sol = solution.copy()\n",
    "    i = rng.integers(0,NUM_SETS)\n",
    "    new_sol[i] = not new_sol[i]\n",
    "    return new_sol\n",
    "\n",
    "def multiple_mutation_tweak(solution:np.ndarray)->np.ndarray:\n",
    "    mask = rng.random(NUM_SETS) < MULTI_TWEAK\n",
    "    new_sol = np.logical_xor(solution,mask)\n",
    "    return new_sol\n",
    "\n",
    "def probabilistic_tweak(solution:np.ndarray)->np.ndarray:\n",
    "    new_sol= solution.copy()\n",
    "    while random_gen.random()<0.5:\n",
    "        i = rng.integers(0,NUM_SETS)\n",
    "        new_sol[i] = not new_sol[i]\n",
    "    return new_sol\n",
    "\n"
   ]
  },
  {
   "cell_type": "code",
   "execution_count": 421,
   "metadata": {},
   "outputs": [],
   "source": [
    "def fitness(solution:np.ndarray):\n",
    "    return (valid(solution),-cost(solution))"
   ]
  },
  {
   "cell_type": "code",
   "execution_count": 422,
   "metadata": {},
   "outputs": [],
   "source": [
    "sim_ann_counter = 0\n",
    "def simulated_annealing(f_cur_sol:np.ndarray,f_tweaked_sol:np.ndarray,temperature: np.float64) -> np.float64:\n",
    "    \"\"\"\n",
    "    f_cur_sol: fitness of tweaked sol\n",
    "    f_tweaked_sol: fitness of current sol\n",
    "    temperature: parameter that balances the two solutions. Higher value favors exploration\n",
    "    return: true if accepting a worsening solution\n",
    "    \"\"\"\n",
    "    worse_p = np.exp(-(f_cur_sol-f_tweaked_sol)/temperature)\n",
    "    ic(f_cur_sol-f_tweaked_sol)\n",
    "    ic(-(f_cur_sol-f_tweaked_sol)/temperature)\n",
    "    ic(f_cur_sol)\n",
    "    ic(f_tweaked_sol)\n",
    "    ic(worse_p)\n",
    "    is_accept = random_gen.random() <= worse_p\n",
    "    ic(is_accept) \n",
    "    if is_accept:\n",
    "        ic(f'Temp:{temperature} prob:{worse_p*100}')\n",
    "        global sim_ann_counter\n",
    "        sim_ann_counter+=1\n",
    "\t\n",
    "    return is_accept\n",
    "\n",
    "def new_starting_pos(best):\n",
    "\tif best is None:\n",
    "\t\treturn random_gen.random((NUM_SETS,)) <0.5\n",
    "\telse:\n",
    "\t\treturn best\n"
   ]
  },
  {
   "cell_type": "code",
   "execution_count": null,
   "metadata": {},
   "outputs": [],
   "source": [
    "solution = rng.random(NUM_SETS) < 0.5\n",
    "\n",
    "\n",
    "solution_fitness = ic(fitness(solution))\n",
    "history=[solution_fitness[1]]\n",
    "history_accepted =[(0,solution_fitness[1])]\n",
    "\n",
    "# These values have been found by trial and error. A cross validation approach however might be better\n",
    "# STARTING_VALUE_TEMP = 0.5\n",
    "STARTING_VALUE_TEMP = 10\n",
    "# INC_VALUE = STARTING_VALUE_TEMP\n",
    "INC_VALUE = 1\n",
    "# RESTART_THRESHOLD = 0.87\n",
    "RESTART_THRESHOLD = 0.992\n",
    "\n",
    "\n",
    "temperature = STARTING_VALUE_TEMP\n",
    "\n",
    "best_sol_so_far = solution\n",
    "fitness_best_sol_so_far = fitness(best_sol_so_far)\n",
    "restart_counter = 0 \n",
    "sim_ann_counter=0\n",
    "\n",
    "# tweak=multiple_mutation_tweak\n",
    "thresholds = list()\n",
    "starting_sol = solution\n",
    "\n",
    "# tweak = probabilistic_tweak\n",
    "\n",
    "ic.disable()\n",
    "for steps in tqdm(range(N_STEPS)):\n",
    "    # print(f'Iterazione {steps}--------')\n",
    "    new_solution = tweak(solution)\n",
    "    ic(solution)\n",
    "    ic(new_solution)\n",
    "    f_newsol = fitness(new_solution)\n",
    "    history.append(f_newsol[1])\n",
    "    if  f_newsol[0] and f_newsol>solution_fitness or (  f_newsol[0] and simulated_annealing(solution_fitness[1],f_newsol[1],temperature)) :\n",
    "        # Saving the best solution so far in case the worsening process goes awry\n",
    "        if f_newsol > fitness_best_sol_so_far:\n",
    "            best_sol_so_far = new_solution\n",
    "            fitness_best_sol_so_far = fitness(best_sol_so_far)\n",
    "\n",
    "        solution=new_solution\n",
    "        solution_fitness =  fitness(solution)\n",
    "\n",
    "        # if a new solution has been accepted, we restart the temperature\n",
    "        temperature = STARTING_VALUE_TEMP\n",
    "\n",
    "        # ic.enable()\n",
    "        # If the ratio between the new solution and the best solution so far is less than RESTART_THRESHOLD, then I restart from the best solution\n",
    "        if (solution_fitness[1] != 0 and fitness_best_sol_so_far[1]/solution_fitness[1]) < RESTART_THRESHOLD:\n",
    "            ic(f'Restarted!')\n",
    "            restart_counter+=1\n",
    "            solution = best_sol_so_far\n",
    "            solution_fitness=fitness(solution)\n",
    "\n",
    "        # ic.disable()\n",
    "        history_accepted.append((steps,solution_fitness[1]))\n",
    "        ic(fitness(new_solution))\n",
    "    else:\n",
    "        temperature+= INC_VALUE\n",
    "ic.enable()\n",
    "\n",
    "ic(sim_ann_counter)\n",
    "ic(restart_counter)\n",
    "ic(fitness(solution))\n",
    "ic(fitness(best_sol_so_far))\n",
    "ic(history.index(fitness(solution)[1]))\n",
    "ic(history.index(fitness(best_sol_so_far)[1]))\n",
    "\n",
    "scatter_plot(range(len(history)),history,[max(history[: i + 1]) for i in range(len(history))])\n",
    "scatter_plot([elem[0] for elem in history_accepted], [elem[1] for elem in history_accepted])\n"
   ]
  }
 ],
 "metadata": {
  "kernelspec": {
   "display_name": "Lab1VENV",
   "language": "python",
   "name": "python3"
  },
  "language_info": {
   "codemirror_mode": {
    "name": "ipython",
    "version": 3
   },
   "file_extension": ".py",
   "mimetype": "text/x-python",
   "name": "python",
   "nbconvert_exporter": "python",
   "pygments_lexer": "ipython3",
   "version": "3.10.11"
  }
 },
 "nbformat": 4,
 "nbformat_minor": 4
}
